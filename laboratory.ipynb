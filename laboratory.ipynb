{
 "cells": [
  {
   "attachments": {},
   "cell_type": "markdown",
   "metadata": {},
   "source": [
    "write a python program which reads a list of “n” numbers from the user, finds whether a particular number is present in the list or not, if present, then stores its positive and negative index in two different lists and displays the occurrence of the number.\n",
    "Sample Input\n",
    "[2, 6, 7, 12, 17, 7, 8, 2, 6, 20, 3, 5]\n",
    "Enter the element to be found : 7\n",
    "Sample Output\n",
    "Element 7 occurs 2 times in the list.\n",
    "Positive Index : 2, 5\n",
    "Negative Index : -7, -10\n"
   ]
  },
  {
   "cell_type": "code",
   "execution_count": 1,
   "metadata": {},
   "outputs": [
    {
     "name": "stdout",
     "output_type": "stream",
     "text": [
      "[2, 6, 7, 12, 17, 7, 8, 2, 6, 20, 3, 5]\n",
      "Element 7 occurs 2 times in the list\n",
      "Positive Index:: [2, 5]\n",
      "Negative Index:: [-10, -7]\n"
     ]
    }
   ],
   "source": [
    "a=[]\n",
    "c=int(input(\"how many number of list you want?\"))\n",
    "for i in range(c+1):\n",
    "    b=int(input(\"enter the number::\"))\n",
    "    x=a.append(b)\n",
    "d=int(input(\"Enter the number to be found::\"))\n",
    "print(a)\n",
    "if d in a:\n",
    "    k=a.count(d)\n",
    "    print(f\"Element {d} occurs {k} times in the list\")\n",
    "p_count=[]\n",
    "n_count=[]\n",
    "k=len(a)\n",
    "for i in range(0,k):\n",
    "    if a[i]==d:\n",
    "        p_count.append(i)\n",
    "        n_count.append(-len(a)+i)\n",
    "print(\"Positive Index::\",p_count)\n",
    "print(\"Negative Index::\",n_count)"
   ]
  }
 ],
 "metadata": {
  "kernelspec": {
   "display_name": "Python 3",
   "language": "python",
   "name": "python3"
  },
  "language_info": {
   "codemirror_mode": {
    "name": "ipython",
    "version": 3
   },
   "file_extension": ".py",
   "mimetype": "text/x-python",
   "name": "python",
   "nbconvert_exporter": "python",
   "pygments_lexer": "ipython3",
   "version": "3.10.4"
  },
  "orig_nbformat": 4
 },
 "nbformat": 4,
 "nbformat_minor": 2
}
