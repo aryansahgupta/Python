{
 "cells": [
  {
   "attachments": {},
   "cell_type": "markdown",
   "metadata": {},
   "source": [
    "Write a program to display the count of even and odd numbers in a given range.\n",
    "Sample Input\n",
    "Start: 20\n",
    "End : 50\n",
    "(inclusive of 20 and 50)\n",
    "Sample Output:\n",
    "Even : 16\n",
    "Odd : 15"
   ]
  },
  {
   "cell_type": "code",
   "execution_count": null,
   "metadata": {
    "vscode": {
     "languageId": "plaintext"
    }
   },
   "outputs": [],
   "source": [
    "count=0\n",
    "k=0\n",
    "for i in range(20,50+1):\n",
    "    if(i%2==0):\n",
    "     count+=1\n",
    "    else:\n",
    "        k+=1\n",
    "print(\"Even::\",count)\n",
    "print(\"Odd::\",k)"
   ]
  }
 ],
 "metadata": {
  "language_info": {
   "name": "python"
  },
  "orig_nbformat": 4
 },
 "nbformat": 4,
 "nbformat_minor": 2
}
